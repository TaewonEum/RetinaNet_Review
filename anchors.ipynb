{
 "cells": [
  {
   "cell_type": "code",
   "execution_count": 1,
   "id": "e9277b6a-c162-46c8-8be1-4e8ea8c90c3d",
   "metadata": {
    "tags": []
   },
   "outputs": [],
   "source": [
    "import numpy as np\n",
    "import torch\n",
    "import torch.nn as nn"
   ]
  },
  {
   "cell_type": "code",
   "execution_count": 2,
   "id": "099be5bb-a470-471e-a250-158e40c39f4a",
   "metadata": {
    "tags": []
   },
   "outputs": [],
   "source": [
    "class Anchors(nn.Module):\n",
    "    def __init__(self,pyramid_levels=None,strides=None,sizes=None,ratios=None,scales=None):\n",
    "        super(Anchors,self).__init__()\n",
    "        \n",
    "        if pyramid_levels is None:\n",
    "            self.pyramid_levels=[3,4,5,6,7]\n",
    "        if strides is None:\n",
    "            self.strides=[2**x for x in self.pyramid_levels]\n",
    "        if sizes is None:\n",
    "            self.sizes=[2**(x+2) for x in self.pyramid_levels]\n",
    "        if ratios is None:\n",
    "            self.ratios = np.array([0.5, 1, 2])\n",
    "        if scales is None:\n",
    "            self.scales = np.array([2 ** 0, 2 ** (1.0 / 3.0), 2 ** (2.0 / 3.0)])\n",
    "            \n",
    "    def forward(self,image):\n",
    "        image_shape = image.shape[2:]\n",
    "        image_shape = np.array(image_shape)\n",
    "        image_shapes = [(image_shape + 2 ** x - 1) // (2 ** x) for x in self.pyramid_levels]\n",
    "\n",
    "        # compute anchors over all pyramid levels\n",
    "        all_anchors = np.zeros((0, 4)).astype(np.float32)\n",
    "\n",
    "        for idx, p in enumerate(self.pyramid_levels):\n",
    "            anchors         = generate_anchors(base_size=self.sizes[idx], ratios=self.ratios, scales=self.scales)\n",
    "            shifted_anchors = shift(image_shapes[idx], self.strides[idx], anchors)\n",
    "            all_anchors     = np.append(all_anchors, shifted_anchors, axis=0)\n",
    "\n",
    "        all_anchors = np.expand_dims(all_anchors, axis=0)\n",
    "\n",
    "        if torch.cuda.is_available():\n",
    "            return torch.from_numpy(all_anchors.astype(np.float32)).cuda()\n",
    "        else:\n",
    "            return torch.from_numpy(all_anchors.astype(np.float32))"
   ]
  },
  {
   "cell_type": "code",
   "execution_count": 3,
   "id": "3d80d11a-e138-45de-b3a2-11b4476f969f",
   "metadata": {
    "tags": []
   },
   "outputs": [],
   "source": [
    "def generate_anchors(base_size=16, ratios=None, scales=None):\n",
    "    \"\"\"\n",
    "    Generate anchor (reference) windows by enumerating aspect ratios X\n",
    "    scales w.r.t. a reference window.\n",
    "    \"\"\"\n",
    "\n",
    "    if ratios is None:\n",
    "        ratios = np.array([0.5, 1, 2])\n",
    "\n",
    "    if scales is None:\n",
    "        scales = np.array([2 ** 0, 2 ** (1.0 / 3.0), 2 ** (2.0 / 3.0)])\n",
    "\n",
    "    num_anchors = len(ratios) * len(scales)\n",
    "\n",
    "    # initialize output anchors\n",
    "    anchors = np.zeros((num_anchors, 4))\n",
    "\n",
    "    # scale base_size\n",
    "    anchors[:, 2:] = base_size * np.tile(scales, (2, len(ratios))).T\n",
    "\n",
    "    # compute areas of anchors\n",
    "    areas = anchors[:, 2] * anchors[:, 3]\n",
    "\n",
    "    # correct for ratios\n",
    "    anchors[:, 2] = np.sqrt(areas / np.repeat(ratios, len(scales)))\n",
    "    anchors[:, 3] = anchors[:, 2] * np.repeat(ratios, len(scales))\n",
    "\n",
    "    # transform from (x_ctr, y_ctr, w, h) -> (x1, y1, x2, y2)\n",
    "    anchors[:, 0::2] -= np.tile(anchors[:, 2] * 0.5, (2, 1)).T\n",
    "    anchors[:, 1::2] -= np.tile(anchors[:, 3] * 0.5, (2, 1)).T\n",
    "\n",
    "    return anchors"
   ]
  },
  {
   "cell_type": "code",
   "execution_count": 4,
   "id": "b82be01b-13ff-4647-8dfb-8f82dadc6789",
   "metadata": {
    "tags": []
   },
   "outputs": [],
   "source": [
    "def compute_shape(image_shape, pyramid_levels):\n",
    "    \"\"\"Compute shapes based on pyramid levels.\n",
    "\n",
    "    :param image_shape:\n",
    "    :param pyramid_levels:\n",
    "    :return:\n",
    "    \"\"\"\n",
    "    image_shape = np.array(image_shape[:2])\n",
    "    image_shapes = [(image_shape + 2 ** x - 1) // (2 ** x) for x in pyramid_levels]\n",
    "    return image_shapes"
   ]
  },
  {
   "cell_type": "code",
   "execution_count": 5,
   "id": "e8e4d42d-0788-4f6d-9b0e-7b56a9b99455",
   "metadata": {
    "tags": []
   },
   "outputs": [],
   "source": [
    "def anchors_for_shape(\n",
    "    image_shape,\n",
    "    pyramid_levels=None,\n",
    "    ratios=None,\n",
    "    scales=None,\n",
    "    strides=None,\n",
    "    sizes=None,\n",
    "    shapes_callback=None,\n",
    "):\n",
    "\n",
    "    image_shapes = compute_shape(image_shape, pyramid_levels)\n",
    "\n",
    "    # compute anchors over all pyramid levels\n",
    "    all_anchors = np.zeros((0, 4))\n",
    "    for idx, p in enumerate(pyramid_levels):\n",
    "        anchors         = generate_anchors(base_size=sizes[idx], ratios=ratios, scales=scales)\n",
    "        shifted_anchors = shift(image_shapes[idx], strides[idx], anchors)\n",
    "        all_anchors     = np.append(all_anchors, shifted_anchors, axis=0)\n",
    "\n",
    "    return all_anchors"
   ]
  },
  {
   "cell_type": "code",
   "execution_count": 6,
   "id": "52d964f0-e9df-408c-91da-6d7e7d8f7573",
   "metadata": {
    "tags": []
   },
   "outputs": [],
   "source": [
    "def shift(shape, stride, anchors):\n",
    "    shift_x = (np.arange(0, shape[1]) + 0.5) * stride\n",
    "    shift_y = (np.arange(0, shape[0]) + 0.5) * stride\n",
    "\n",
    "    shift_x, shift_y = np.meshgrid(shift_x, shift_y)\n",
    "\n",
    "    shifts = np.vstack((\n",
    "        shift_x.ravel(), shift_y.ravel(),\n",
    "        shift_x.ravel(), shift_y.ravel()\n",
    "    )).transpose()\n",
    "\n",
    "    # add A anchors (1, A, 4) to\n",
    "    # cell K shifts (K, 1, 4) to get\n",
    "    # shift anchors (K, A, 4)\n",
    "    # reshape to (K*A, 4) shifted anchors\n",
    "    A = anchors.shape[0]\n",
    "    K = shifts.shape[0]\n",
    "    all_anchors = (anchors.reshape((1, A, 4)) + shifts.reshape((1, K, 4)).transpose((1, 0, 2)))\n",
    "    all_anchors = all_anchors.reshape((K * A, 4))\n",
    "\n",
    "    return all_anchors"
   ]
  },
  {
   "cell_type": "code",
   "execution_count": null,
   "id": "157c64f6-a8bd-4b5d-a04a-107e028a9f01",
   "metadata": {},
   "outputs": [],
   "source": []
  }
 ],
 "metadata": {
  "kernelspec": {
   "display_name": "Python 3 (ipykernel)",
   "language": "python",
   "name": "python3"
  },
  "language_info": {
   "codemirror_mode": {
    "name": "ipython",
    "version": 3
   },
   "file_extension": ".py",
   "mimetype": "text/x-python",
   "name": "python",
   "nbconvert_exporter": "python",
   "pygments_lexer": "ipython3",
   "version": "3.7.15"
  }
 },
 "nbformat": 4,
 "nbformat_minor": 5
}
